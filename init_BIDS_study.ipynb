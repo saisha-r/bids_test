{
 "cells": [
  {
   "cell_type": "markdown",
   "id": "47c8e26e-64b6-41a9-a842-227791bed0ab",
   "metadata": {},
   "source": [
    "# Make BIDS root folder structure for a new EEG study \n",
    "(or new BIDS structure for an old study)\n",
    "\n",
    "Creates the following empty folder structure for a new study:\n",
    "\n",
    "```\n",
    "— code\n",
    "    - import\n",
    "    - preproc\n",
    "    - analysis\n",
    "\n",
    "- derivatives\n",
    "    - preproc_pipeline_1\n",
    "        - s001\n",
    "        - s002\n",
    "    - preproc_pipeline_2\n",
    "    - statistical_analysis_1\n",
    "\n",
    "- rawdata\n",
    "    - s001\n",
    "    - s002\n",
    "    \n",
    "- README.md\n",
    "    \n",
    "- sourcedata\n",
    "    - eeg\n",
    "    - behav\n",
    "\n",
    "```\n",
    "\n",
    "- `code` contains all code used to operate on the data sets, including file conversion/import, preprocessing, and analysis\n",
    "- `sourcedata` contains the original, unprocessed data files, organized into subfolders by modality (e.g., EEG, behavioural log files). These files should be write-protected as the original data should never be modified or deleted.\n",
    "- `rawdata` contains BIDS-compliant raw datasets. These are typically the output of an import script that operates on data in `sourcedata` and converts it to BIDS-compliant formats.\n",
    "- `derivatives` contain versions of the data that are processed by scripts in the `code` folder. Separate folders in `derivatives` should be made for different types of outputs, e.g., the output of a preprocessing pipeline would go in one folder, but a statistical analysis on that preprocessed data in another. This organization makes it easy to perform different batches of operations on data and compare the results, as well as keeping things organized. Within a `derivatives` subfolder, data should be organized by subject, potentially under subfolders for the outputs of different preprocessing steps, if these are saved.\n",
    "- `README.md` is a Markdown file which you should edit to include a descirption of the study and experimental paradigm. This provides the context in which the data can be understood.  \n"
   ]
  },
  {
   "cell_type": "code",
   "execution_count": null,
   "id": "3db6b90a-a67d-4419-a191-3a565ce9c725",
   "metadata": {},
   "outputs": [],
   "source": [
    "import os\n",
    "import os.path as op\n",
    "import json\n",
    "import yaml\n",
    "from yaml import CLoader as Loader\n",
    "from mne_bids import make_dataset_description, update_sidecar_json, BIDSPath"
   ]
  },
  {
   "cell_type": "markdown",
   "id": "9bb54837-c8ef-4e0e-9567-d77682ce0ce6",
   "metadata": {},
   "source": [
    "## BIDS Project Parameters\n",
    "Used to store metadata and for file/folder names\n",
    "\n",
    "Read from `config.yml`"
   ]
  },
  {
   "cell_type": "code",
   "execution_count": null,
   "id": "8b328987-c77a-4e89-9671-76c68542ad3f",
   "metadata": {},
   "outputs": [],
   "source": [
    "# this shouldn't change if you run this script from its default location in code/import\n",
    "bids_root = op.abspath('.')\n",
    "\n",
    "cfg_file = op.join(bids_root, 'config.yml')\n",
    "with open(cfg_file, 'r') as f:\n",
    "    config = yaml.load(f, Loader=Loader)\n",
    "\n",
    "study_name = config['study_name']\n",
    "reb_info = config['reb_info']\n",
    "authors = config['authors']\n",
    "instn = config['instn']\n",
    "instn_addr = config['instn_addr']\n",
    "instn_dept = config['instn_dept']\n",
    "funding = config['funding'] \n",
    "license = config['license']\n",
    "data_type = config['data_type']\n",
    "line_freq = config['line_freq']"
   ]
  },
  {
   "cell_type": "markdown",
   "id": "aa92f066-6c78-44b1-96ba-501c36a4ff64",
   "metadata": {},
   "source": [
    "## Create study-level metadata"
   ]
  },
  {
   "cell_type": "code",
   "execution_count": null,
   "id": "efea76dd-ee9c-4b06-926b-7403c91768d2",
   "metadata": {},
   "outputs": [],
   "source": [
    "make_dataset_description(path=bids_root,\n",
    "                         name=study_name,\n",
    "                         data_license=license,\n",
    "                         authors=authors,\n",
    "                         funding=funding,\n",
    "                        )\n",
    "\n",
    "# --- Update metadata with additional info --- \n",
    "entries = {'EthicsApprovals':reb_info,\n",
    "           'InstitutionName':instn,\n",
    "           'InstitutionAddress':instn_addr,\n",
    "           'InstitutionalDepartmentName':instn_dept,\n",
    "           'PowerLineFrequency':line_freq,\n",
    "          }   \n",
    "sidecar_path = op.join(bids_root, 'dataset_description.json')\n",
    "with open(sidecar_path, 'r') as f:\n",
    "    info = json.load(f)        \n",
    "info = {**info, **entries}\n",
    "with open(sidecar_path, 'w') as f:\n",
    "    info = json.dump(info, f)"
   ]
  }
 ],
 "metadata": {
  "kernelspec": {
   "display_name": "Python 3 (ipykernel)",
   "language": "python",
   "name": "python3"
  },
  "language_info": {
   "codemirror_mode": {
    "name": "ipython",
    "version": 3
   },
   "file_extension": ".py",
   "mimetype": "text/x-python",
   "name": "python",
   "nbconvert_exporter": "python",
   "pygments_lexer": "ipython3",
   "version": "3.10.5"
  }
 },
 "nbformat": 4,
 "nbformat_minor": 5
}
