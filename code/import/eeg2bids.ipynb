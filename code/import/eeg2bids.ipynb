{
 "cells": [
  {
   "cell_type": "markdown",
   "id": "f6add3a2-367f-47eb-a0ad-678f30e3e0d7",
   "metadata": {},
   "source": [
    "# Convert raw EEG data to BIDS\n",
    "\n",
    "This script will take raw EEG data files (as saved by PyCorder or ASAlab) and convert them to BIDS-compatible files and folder structure, with all metadata.\n",
    "\n",
    "You must save the raw EEG files in the `sourcedata/sub-00x/eeg` subfolder of your study's BIDS root folder.\n",
    "\n",
    "All study-specific configuration details should be defined in the `config.yml` file and not in this script. \n",
    "\n",
    "The only thing to change in this script is to list the subject IDs of the subjects whose data you wish to convert, in the cell below. Then just run all additional cells."
   ]
  },
  {
   "cell_type": "code",
   "execution_count": null,
   "id": "4978a2c7-a78e-4ed5-957f-8bf1de5fc7f7",
   "metadata": {},
   "outputs": [],
   "source": [
    "# list the names of subject IDs to convert\n",
    "in_subjs = ['sub-001', 'sub-002', 'sub-003']"
   ]
  },
  {
   "cell_type": "code",
   "execution_count": null,
   "id": "381da0a3-ebbd-4887-86d7-a5c06f24157f",
   "metadata": {},
   "outputs": [],
   "source": [
    "from os import path as op\n",
    "import os\n",
    "import json\n",
    "# import configparser\n",
    "import yaml\n",
    "try:\n",
    "    from yaml import CLoader as Loader, CDumper as Dumper\n",
    "except ImportError:\n",
    "    from yaml import Loader, Dumper"
   ]
  },
  {
   "cell_type": "markdown",
   "id": "6c782028-7e84-425d-8261-0aaaf1f5a186",
   "metadata": {},
   "source": [
    "## Study Parameters\n",
    "\n",
    "Will import study-level parameters from `config.yml` in `bids_root`"
   ]
  },
  {
   "cell_type": "code",
   "execution_count": null,
   "id": "10a2e1ca-519f-492b-a794-23932e20a3d4",
   "metadata": {},
   "outputs": [],
   "source": [
    "# this shouldn't change if you run this script from its default location in code/import\n",
    "bids_root = '../..'\n",
    "\n",
    "cfg_file = op.join(bids_root, 'config.yml')\n",
    "with open(cfg_file, 'r') as f:\n",
    "    config = yaml.load(f, Loader=Loader)\n",
    "\n",
    "study_name = config['study_name']\n",
    "task = config['task']\n",
    "reb_info = config['reb_info']\n",
    "authors = config['authors']\n",
    "line_freq = int(config['line_freq']) \n",
    "instn = config['instn']\n",
    "instn_addr = config['instn_addr']\n",
    "instn_dept = config['instn_dept']\n",
    "funding = config['funding'] \n",
    "license = config['license']\n",
    "data_type = config['data_type']\n",
    "amp_mfr = config['amp_mfr']\n",
    "amp_model = config['amp_model']\n",
    "sw_filt = config['sw_filt']\n",
    "hw_filt = config['hw_filt']\n",
    "eeg_ref = config['eeg_ref']\n",
    "eeg_ground = config['eeg_ground']\n",
    "cap_mfr = config['cap_mfr']\n",
    "cap_model = config['cap_model']\n",
    "eog = config['eog']\n",
    "montage_fname = config['montage_fname']\n",
    "\n",
    "eeg_extn = 'vhdr'"
   ]
  },
  {
   "cell_type": "markdown",
   "id": "dd40bd16-5762-4556-aa65-a7ad1d3cebba",
   "metadata": {},
   "source": [
    "## Event details\n",
    "\n",
    "Provide a dictionary mapping your stimuli to event code numbers in your raw EEG data.\n",
    "\n",
    "This is only really necessary in this script if you want to do some fancy event code processing prior to standard epoching.\n",
    "\n",
    "The dictionaries below are **just examples** and **should be replaced** based on the codes used in your study."
   ]
  },
  {
   "cell_type": "code",
   "execution_count": null,
   "id": "b3c7339d-70a3-4dfc-b3e6-71d4f4595653",
   "metadata": {},
   "outputs": [],
   "source": [
    "event_id = {'Neutral/Inverted/Standard/L1':211, 'Neutral/Upright/Standard/L1':221, \n",
    "            'Neutral/Inverted/Standard/L2':212, 'Neutral/Upright/Standard/L2':222,\n",
    "            'Neutral/Inverted/Standard/L3':213, 'Neutral/Upright/Standard/L3':223,\n",
    "            'Neutral/Inverted/Standard/L4':214, 'Neutral/Upright/Standard/L4':224,\n",
    "            'Neutral/Inverted/Standard/L5':215, 'Neutral/Upright/Standard/L5':225,\n",
    "            'Neutral/Inverted/Standard/L6':216, 'Neutral/Upright/Standard/L6':226,\n",
    "\n",
    "            'Green/Inverted/Standard/L1':111, 'Green/Upright/Standard/L1':121,\n",
    "            'Green/Inverted/Standard/L2':112, 'Green/Upright/Standard/L2':122,\n",
    "            'Green/Inverted/Standard/L3':113, 'Green/Upright/Standard/L3':123,\n",
    "            'Green/Inverted/Standard/L4':114, 'Green/Upright/Standard/L4':124,\n",
    "            'Green/Inverted/Standard/L5':115, 'Green/Upright/Standard/L5':125,\n",
    "            'Green/Inverted/Standard/L6':116, 'Green/Upright/Standard/L6':126,\n",
    "\n",
    "            'Cue/L1':191, 'Cue/L2':192, 'Cue/L3':193, 'Cue/L4':194, 'Cue/L5':195, 'Cue/L6':196\n",
    "           }"
   ]
  },
  {
   "cell_type": "markdown",
   "id": "352a1e4c-79b0-4fc2-8e1b-0953bff7e339",
   "metadata": {},
   "source": [
    "## Import necessary packages\n",
    "In general you will not need to modify anything below this point."
   ]
  },
  {
   "cell_type": "code",
   "execution_count": null,
   "id": "31677eee-4158-4565-8324-2c4cc54bc82e",
   "metadata": {},
   "outputs": [],
   "source": [
    "import shutil\n",
    "from glob import glob\n",
    "\n",
    "import numpy as np \n",
    "# from matplotlib import pyplot as plt\n",
    "import mne\n",
    "# from mne.datasets import eegbci\n",
    "mne.set_log_level('error')\n",
    "\n",
    "from mne_bids import write_raw_bids, BIDSPath, update_sidecar_json\n",
    "from mne_bids.stats import count_events"
   ]
  },
  {
   "cell_type": "markdown",
   "id": "430bdf30-a2b0-4b3c-9f40-fe601fcabd18",
   "metadata": {},
   "source": [
    "## Paths"
   ]
  },
  {
   "cell_type": "code",
   "execution_count": null,
   "id": "1ddef9e3-080b-4235-8704-5b3f4d5c36cd",
   "metadata": {},
   "outputs": [],
   "source": [
    "# output data files will convert file names to generic sub-001, 002, ... names \n",
    "# _ASSUMES__ last two characters in in_subjs are the id number; prepends a leading 0\n",
    "# BIDS will prepend 'sub-' to the numbers in out_subjs\n",
    "out_subjs = [ '0' + s[-2:] for s in in_subjs]\n",
    "\n",
    "# source_path is where the input source (raw) files live\n",
    "source_path = op.join(bids_root, 'sourcedata')\n",
    "\n",
    "# raw_path is where the results of running this script will be saved\n",
    "raw_path = op.join(bids_root, 'rawdata')\n"
   ]
  },
  {
   "cell_type": "markdown",
   "id": "1843b5bd-d552-4dd1-9a0d-9408fffefd0f",
   "metadata": {
    "tags": []
   },
   "source": [
    "## Import BrainVision data, process events, & covert to BIDS"
   ]
  },
  {
   "cell_type": "code",
   "execution_count": null,
   "id": "c14c063a-1239-4f7a-8c9c-45f731f90a00",
   "metadata": {},
   "outputs": [],
   "source": [
    "for subj_num, subject in enumerate(in_subjs):\n",
    "    print(subject)\n",
    "    # subject_id is for naming output files\n",
    "    subject_id = out_subjs[subj_num]\n",
    "\n",
    "    # --- Import raw files ---\n",
    "    source_subj = op.join(source_path, subject, config['data_type'])\n",
    "    raw_fnames =  glob(source_subj + '/' + '*.' + eeg_extn)\n",
    "\n",
    "    if len(raw_fnames) > 1:\n",
    "        # if multiple input files, we need to concatenate them\n",
    "        raw_list = []\n",
    "        for f in raw_fnames:\n",
    "            raw_list.append(mne.io.read_raw_brainvision(f, \n",
    "                                                        preload=False, \n",
    "                                                        eog=config['eog']).set_montage(montage_fname)\n",
    "                           )\n",
    "        raw = mne.concatenate_raws(raw_list)    \n",
    "\n",
    "        # mne-bids doesn't handle concatenated raw files, unless we save them as .fif then reload:\n",
    "        raw_tmp_fname = source_path + '/' + subject + '-raw.fif'\n",
    "        raw.save(raw_tmp_fname, overwrite=True)\n",
    "        raw = mne.io.read_raw(raw_tmp_fname)\n",
    "        \n",
    "    else:\n",
    "        raw = mne.io.read_raw(raw_fnames.pop(), \n",
    "                              preload=False, \n",
    "                              eog=config['eog']).set_montage(montage_fname)\n",
    "        \n",
    "    # --- Event Processing ---\n",
    "    # In here you could add fancy things like \n",
    "    #  recoding events, contingent events, etc.\n",
    "    events, event_dict = mne.events_from_annotations(raw)\n",
    "    event_dict = {**event_id, **event_dict}\n",
    "    \n",
    "    # --- Make BIDS ---\n",
    "    bids_path = BIDSPath(subject=subject_id, \n",
    "                         task=config['task'], \n",
    "                         datatype=config['data_type'],\n",
    "                         root=op.join(raw_path))\n",
    "\n",
    "    write_raw_bids(raw, bids_path, \n",
    "                   events_data=events, event_id=event_dict, \n",
    "                   overwrite=True)\n",
    "\n",
    "    # Update metadata with additional info\n",
    "    entries = { 'Manufacturer':config['amp_mfr'],\n",
    "                'ManufacturersModelName':config['amp_model'],\n",
    "                'PowerLineFrequency':config['line_freq'],\n",
    "                'SoftwareFilters':config['sw_filt'],\n",
    "                'HardwareFilters':config['hw_filt'],\n",
    "                'EEGReference':config['eeg_ref'],\n",
    "                'EEGGround':config['eeg_ground'],\n",
    "                'CapManufacturer':config['cap_mfr'],\n",
    "                'CapManufacturersModelName':config['cap_model'],\n",
    "                'EthicsApprovals':config['reb_info'],\n",
    "                'InstitutionName':config['instn'],\n",
    "                'InstitutionAddress':config['instn_addr'],\n",
    "                'InstitutionalDepartmentName':config['instn_dept'],\n",
    "                }\n",
    "\n",
    "    sidecar_path = bids_path.copy().update(extension='.json')\n",
    "    update_sidecar_json(bids_path=sidecar_path, entries=entries)\n",
    "    \n",
    "    # Clean up\n",
    "    if len(raw_fnames) > 1:\n",
    "        os.remove(raw_tmp_fname)\n",
    "\n",
    "# Merge README file generated by write_raw_bids with the eixting README.md        \n",
    "with open(raw_path + '/README') as fi:\n",
    "    lines = fi.read().splitlines()    \n",
    "\n",
    "with open(raw_path + '/README.md', 'a') as fo:\n",
    "    for li in lines:\n",
    "        fo.write('\\n')\n",
    "        fo.write(li)        \n",
    "\n",
    "os.remove(raw_path + '/README')        "
   ]
  },
  {
   "cell_type": "code",
   "execution_count": null,
   "id": "a4266b8d-4e76-4739-924a-2f20600326c7",
   "metadata": {},
   "outputs": [],
   "source": []
  }
 ],
 "metadata": {
  "kernelspec": {
   "display_name": "Python 3 (ipykernel)",
   "language": "python",
   "name": "python3"
  },
  "language_info": {
   "codemirror_mode": {
    "name": "ipython",
    "version": 3
   },
   "file_extension": ".py",
   "mimetype": "text/x-python",
   "name": "python",
   "nbconvert_exporter": "python",
   "pygments_lexer": "ipython3",
   "version": "3.10.5"
  }
 },
 "nbformat": 4,
 "nbformat_minor": 5
}
